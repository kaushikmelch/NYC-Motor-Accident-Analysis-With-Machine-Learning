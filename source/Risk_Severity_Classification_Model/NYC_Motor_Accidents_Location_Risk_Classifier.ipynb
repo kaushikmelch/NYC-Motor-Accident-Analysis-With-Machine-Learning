{
 "cells": [
  {
   "cell_type": "markdown",
   "metadata": {},
   "source": [
    "## Problem Statement ##"
   ]
  },
  {
   "cell_type": "markdown",
   "metadata": {},
   "source": [
    "This python code aims to build a classifier for the accident risk of various locations in NYC on a particular day and time. The classifier <br>\n",
    "tries to classify locations into risk categories : HIGH, LOW and MEDIUM based on the various weather features that have been imported into the <br>\n",
    "data set previously using openmeteo. The utility of this model lies in the fact that authorities can plan their constrained resources much more <br>efficiently if they know which location at a given time and day is more likely to see accident spike. This can potentially lead to quicker response <br>time and increased safety."
   ]
  },
  {
   "cell_type": "markdown",
   "metadata": {},
   "source": [
    "### Data Preparation ###"
   ]
  },
  {
   "cell_type": "markdown",
   "metadata": {},
   "source": [
    "This next section deals mostly with data cleaning. The final_data.csv file contains the original data downloaded from the NYC <br>\n",
    "motor vehicle crash website joined with the weather data that was imported using the weather_data_import.ipynb code. Various features are<br>\n",
    "formatted, and ultimately only the one's used in training are kept. The task of feature selection was done iteratively, various models were<br>\n",
    "trained to see which features are relevant."
   ]
  },
  {
   "cell_type": "code",
   "execution_count": 1,
   "metadata": {
    "id": "gvYbCnATO81x"
   },
   "outputs": [],
   "source": [
    "# Import necessary packages.\n",
    "import pandas as pd\n",
    "import numpy as np\n",
    "from sklearn.model_selection import train_test_split\n",
    "from sklearn.ensemble import RandomForestClassifier\n",
    "from sklearn.metrics import accuracy_score, classification_report, confusion_matrix\n",
    "import matplotlib.pyplot as plt\n",
    "import seaborn as sns\n",
    "from sklearn.metrics import precision_recall_curve\n",
    "from sklearn.metrics import roc_curve, auc\n",
    "from sklearn.model_selection import train_test_split, RandomizedSearchCV\n",
    "from xgboost import XGBClassifier"
   ]
  },
  {
   "cell_type": "code",
   "execution_count": null,
   "metadata": {
    "colab": {
     "base_uri": "https://localhost:8080/"
    },
    "id": "3YI1UxZjPELb",
    "outputId": "7e675455-be58-4f0d-c19b-140d2c27086c"
   },
   "outputs": [],
   "source": [
    "# Read the main data set that contains the accident information and the weather information\n",
    "df = pd.read_csv('C:/Users/mehra/OneDrive/Desktop/APP/FDS_Project/final_data/content/final_data.csv')"
   ]
  },
  {
   "cell_type": "code",
   "execution_count": 88,
   "metadata": {
    "id": "Wyi3UK1RPQeT"
   },
   "outputs": [
    {
     "name": "stdout",
     "output_type": "stream",
     "text": [
      "Index(['CRASH DATE', 'CRASH TIME', 'BOROUGH', 'ZIP CODE', 'LATITUDE',\n",
      "       'LONGITUDE', 'LOCATION', 'ON STREET NAME', 'CROSS STREET NAME',\n",
      "       'OFF STREET NAME', 'NUMBER OF PERSONS INJURED',\n",
      "       'NUMBER OF PERSONS KILLED', 'NUMBER OF PEDESTRIANS INJURED',\n",
      "       'NUMBER OF PEDESTRIANS KILLED', 'NUMBER OF CYCLIST INJURED',\n",
      "       'NUMBER OF CYCLIST KILLED', 'NUMBER OF MOTORIST INJURED',\n",
      "       'NUMBER OF MOTORIST KILLED', 'CONTRIBUTING FACTOR VEHICLE 1',\n",
      "       'CONTRIBUTING FACTOR VEHICLE 2', 'CONTRIBUTING FACTOR VEHICLE 3',\n",
      "       'CONTRIBUTING FACTOR VEHICLE 4', 'CONTRIBUTING FACTOR VEHICLE 5',\n",
      "       'COLLISION_ID', 'VEHICLE TYPE CODE 1', 'VEHICLE TYPE CODE 2',\n",
      "       'VEHICLE TYPE CODE 3', 'VEHICLE TYPE CODE 4', 'VEHICLE TYPE CODE 5',\n",
      "       'STRTNAME_BOROUGH', 'DATE', 'TEMPERATURE_2M', 'RELATIVE_HUMIDITY_2M',\n",
      "       'PRECIPITATION', 'RAIN', 'SNOWFALL', 'SNOW_DEPTH', 'WEATHER_CODE',\n",
      "       'CLOUD_COVER', 'WIND_SPEED_100M', 'WIND_DIRECTION_100M', 'IS_DAY'],\n",
      "      dtype='object')\n"
     ]
    }
   ],
   "source": [
    "# Print all the columns that are originally in the joined data set\n",
    "column_names = df.columns\n",
    "print(column_names)"
   ]
  },
  {
   "cell_type": "code",
   "execution_count": 89,
   "metadata": {
    "id": "X9bbtvdZa1e-"
   },
   "outputs": [
    {
     "name": "stdout",
     "output_type": "stream",
     "text": [
      "   CRASH DATE CRASH TIME   BOROUGH ZIP CODE  LATITUDE  LONGITUDE  \\\n",
      "0  2021-09-11   10:00:00  BROOKLYN  11208.0   40.6975 -73.886633   \n",
      "1  2021-09-11   10:00:00  BROOKLYN  11212.0   40.6975 -73.886633   \n",
      "2  2021-12-14   08:00:00  BROOKLYN  11233.0   40.6975 -73.886633   \n",
      "3  2021-12-14   08:00:00       NaN      NaN   40.6975 -73.886633   \n",
      "4  2021-12-14   08:00:00       NaN      NaN   40.6975 -73.886633   \n",
      "5  2021-12-14   08:00:00  BROOKLYN  11207.0   40.6975 -73.886633   \n",
      "6  2021-12-14   17:00:00       NaN      NaN   40.6975 -73.979750   \n",
      "7  2021-12-14   17:00:00  BROOKLYN  11211.0   40.6975 -73.979750   \n",
      "\n",
      "                              ON STREET NAME  CROSS STREET NAME  \\\n",
      "0                                        NaN                NaN   \n",
      "1                                        NaN                NaN   \n",
      "2             SARATOGA AVENUE NYC,  New York     DECATUR STREET   \n",
      "3             ATLANTIC AVENUE NYC,  New York                NaN   \n",
      "4               EUCLID AVENUE NYC,  New York                NaN   \n",
      "5            ARLINGTON AVENUE NYC,  New York  VAN SICLEN AVENUE   \n",
      "6  BROOKLYN QUEENS EXPRESSWAY NYC,  New York                NaN   \n",
      "7                GRAND STREET NYC,  New York       UNION AVENUE   \n",
      "\n",
      "           OFF STREET NAME  NUMBER OF PERSONS INJURED  ...  RAIN  SNOWFALL  \\\n",
      "0  1211      LORING AVENUE                        0.0  ...   0.0       0.0   \n",
      "1  1708      PITKIN AVENUE                        1.0  ...   0.0       0.0   \n",
      "2                      NaN                        0.0  ...   0.0       0.0   \n",
      "3                      NaN                        0.0  ...   0.0       0.0   \n",
      "4                      NaN                        3.0  ...   0.0       0.0   \n",
      "5                      NaN                        0.0  ...   0.0       0.0   \n",
      "6                      NaN                        0.0  ...   0.0       0.0   \n",
      "7                      NaN                        1.0  ...   0.0       0.0   \n",
      "\n",
      "   SNOW_DEPTH  WEATHER_CODE  CLOUD_COVER  WIND_SPEED_100M  \\\n",
      "0         0.0           0.0          0.0        10.365251   \n",
      "1         0.0           0.0          0.0        10.365251   \n",
      "2         0.0           0.0          6.9        28.236486   \n",
      "3         0.0           0.0          6.9        28.236486   \n",
      "4         0.0           0.0          6.9        28.236486   \n",
      "5         0.0           0.0          6.9        28.236486   \n",
      "6         0.0           1.0         20.1        16.454008   \n",
      "7         0.0           1.0         20.1        16.454008   \n",
      "\n",
      "   WIND_DIRECTION_100M IS_DAY REAL_LATITUDE REAL_LONGITUDE  \n",
      "0            290.32320    0.0     40.667202     -73.866500  \n",
      "1            290.32320    0.0     40.669758     -73.910190  \n",
      "2            289.35907    0.0     40.683304     -73.917274  \n",
      "3            289.35907    0.0     40.677414     -73.930330  \n",
      "4            289.35907    0.0     40.678303     -73.872890  \n",
      "5            289.35907    0.0     40.679740     -73.892130  \n",
      "6            349.91946    1.0     40.709183     -73.956825  \n",
      "7            349.91946    1.0     40.710957     -73.951126  \n",
      "\n",
      "[8 rows x 43 columns]\n"
     ]
    }
   ],
   "source": [
    "# DATA PROCESSING: Split the real lat long, delete the location column\n",
    "# The lat long in this data set have been replaced by representative lat long previously\n",
    "# Howver, the LOCATION column still contains the real lat long - so split it into two columns\n",
    "# Create new columns for latitude and longitude\n",
    "df[['REAL_LATITUDE', 'REAL_LONGITUDE']] = df['LOCATION'].str.strip('()').str.split(',', expand=True)\n",
    "\n",
    "# Convert the new columns to numeric (float) types\n",
    "df['REAL_LATITUDE'] = pd.to_numeric(df['REAL_LATITUDE'], errors='coerce')\n",
    "df['REAL_LONGITUDE'] = pd.to_numeric(df['REAL_LONGITUDE'], errors='coerce')\n",
    "\n",
    "# Drop the original df['LOCATION'] column\n",
    "df.drop('LOCATION', axis=1, inplace=True)\n",
    "\n",
    "# Display the modified DataFrame\n",
    "print(df.head(8))\n"
   ]
  },
  {
   "cell_type": "code",
   "execution_count": 90,
   "metadata": {
    "id": "80qbWS6cb9I0"
   },
   "outputs": [],
   "source": [
    "# DATA PROCESSING: Delete unnecessary columns\n",
    "# These columns either present redundant information, or have mostly null \n",
    "# values or are not important for training purposes.\n",
    "# We did not use the contributing factor and vehicle type in our training\n",
    "# as those are post-accident features and we are trying to predict the \n",
    "# accident likelihood.\n",
    "df.drop('CROSS STREET NAME', axis=1, inplace=True)\n",
    "df.drop('OFF STREET NAME', axis=1, inplace=True)\n",
    "df.drop('ON STREET NAME', axis=1, inplace=True)\n",
    "df.drop('CONTRIBUTING FACTOR VEHICLE 1', axis=1, inplace=True)\n",
    "df.drop('CONTRIBUTING FACTOR VEHICLE 2', axis=1, inplace=True)\n",
    "df.drop('CONTRIBUTING FACTOR VEHICLE 3', axis=1, inplace=True)\n",
    "df.drop('CONTRIBUTING FACTOR VEHICLE 4', axis=1, inplace=True)\n",
    "df.drop('CONTRIBUTING FACTOR VEHICLE 5', axis=1, inplace=True)\n",
    "df.drop('COLLISION_ID', axis=1, inplace=True)\n",
    "df.drop('DATE', axis=1, inplace=True)\n",
    "df.drop('VEHICLE TYPE CODE 1', axis=1, inplace=True)\n",
    "df.drop('VEHICLE TYPE CODE 2', axis=1, inplace=True)\n",
    "df.drop('VEHICLE TYPE CODE 3', axis=1, inplace=True)\n",
    "df.drop('VEHICLE TYPE CODE 4', axis=1, inplace=True)\n",
    "df.drop('VEHICLE TYPE CODE 5', axis=1, inplace=True)\n"
   ]
  },
  {
   "cell_type": "code",
   "execution_count": 91,
   "metadata": {
    "colab": {
     "base_uri": "https://localhost:8080/"
    },
    "id": "lnB7aBCMGj80",
    "outputId": "eedad850-beba-4f55-e9c2-522584c4ed29"
   },
   "outputs": [
    {
     "name": "stdout",
     "output_type": "stream",
     "text": [
      "(1455569, 30)\n"
     ]
    }
   ],
   "source": [
    "# DATA PROCESSING:  Drop columns which dont have a zip code\n",
    "df = df.dropna(subset=['ZIP CODE'])\n",
    "# Display the modified DataFrame shape\n",
    "print(df.shape)"
   ]
  },
  {
   "cell_type": "code",
   "execution_count": 93,
   "metadata": {
    "colab": {
     "base_uri": "https://localhost:8080/"
    },
    "id": "ntlbdjEVIosb",
    "outputId": "6dad5cd0-5142-4306-db63-dd28be90372e"
   },
   "outputs": [
    {
     "name": "stdout",
     "output_type": "stream",
     "text": [
      "  DAY MONTH  YEAR\n",
      "0  11     9  2021\n",
      "1  11     9  2021\n",
      "2  14    12  2021\n",
      "5  14    12  2021\n",
      "7  14    12  2021\n"
     ]
    }
   ],
   "source": [
    "# DATA PROCESSING:  Extract day, month and year from the crash date column\n",
    "# This is important for one hot encoding later on\n",
    "# Convert 'CRASH DATE' to datetime format\n",
    "df['CRASH DATE'] = pd.to_datetime(df['CRASH DATE'])\n",
    "\n",
    "# Extract day, month, and year\n",
    "df['DAY'] = df['CRASH DATE'].dt.day\n",
    "df['MONTH'] = df['CRASH DATE'].dt.month\n",
    "df['YEAR'] = df['CRASH DATE'].dt.year\n",
    "\n",
    "# Drop the original 'CRASH DATE' column\n",
    "df = df.drop(columns=['CRASH DATE'])\n",
    "\n",
    "df['DAY'] = df['DAY'].astype(str)\n",
    "df['MONTH'] = df['MONTH'].astype(str)\n",
    "df['YEAR'] = df['YEAR'].astype(str)\n",
    "\n",
    "\n",
    "# Display the modified DataFrame\n",
    "print(df[['DAY', 'MONTH', 'YEAR']].head())\n"
   ]
  },
  {
   "cell_type": "code",
   "execution_count": null,
   "metadata": {
    "colab": {
     "base_uri": "https://localhost:8080/"
    },
    "id": "QPa-Ae9dJey4",
    "outputId": "b1bfafc6-be8c-4426-84fe-b5743f763271"
   },
   "outputs": [],
   "source": [
    "# DATA PROCESSING:  Extract the hour from crash time\n",
    "# This is important for one hot encoding later on\n",
    "# Convert 'CRASH TIME' to datetime format\n",
    "df['CRASH TIME'] = pd.to_datetime(df['CRASH TIME'])\n",
    "\n",
    "# Extract the hour\n",
    "df['HOUR'] = df['CRASH TIME'].dt.hour\n",
    "\n",
    "# Drop the original 'CRASH TIME' column\n",
    "df = df.drop(columns=['CRASH TIME'])\n",
    "df['HOUR'] = df['HOUR'].astype(str)\n",
    "\n"
   ]
  },
  {
   "cell_type": "code",
   "execution_count": 95,
   "metadata": {
    "colab": {
     "base_uri": "https://localhost:8080/"
    },
    "id": "pKsazV22Kv_Q",
    "outputId": "50326b48-59b8-456a-af00-e022e7228af5"
   },
   "outputs": [
    {
     "name": "stdout",
     "output_type": "stream",
     "text": [
      "Unique values in the 'WEATHER' column:\n",
      "['0.0' '1.0' '3.0' '2.0' '51.0' '53.0' '71.0' '63.0' '55.0' '61.0' '73.0'\n",
      " '65.0' '75.0']\n"
     ]
    }
   ],
   "source": [
    "# EDA: See the number of distinct WMO weather codes in the data set\n",
    "# The number is small so this column can be one-hot encoded too.\n",
    "df['WEATHER_CODE'] = df['WEATHER_CODE'].astype(str)\n",
    "unique_weather_values = df['WEATHER_CODE'].unique()\n",
    "# Print the unique values in the 'WEATHER' column\n",
    "print(\"Unique values in the 'WEATHER' column:\")\n",
    "print(unique_weather_values)"
   ]
  },
  {
   "cell_type": "code",
   "execution_count": null,
   "metadata": {},
   "outputs": [],
   "source": [
    "# Data Enhancing: Add 1 across all the persons injured columns\n",
    "# This is because there are a lot of row with persons injured + killed = 0\n",
    "# As we are trying to define risk percentage, using this as it is will results\n",
    "# in bias towards 0 percentage - which is not right as the accident did happen\n",
    "# even though no injury was reported. Our final metric is to classify the accident\n",
    "# likeliness and it is a percentage. So boosting this column does not logically \n",
    "# change the definition of risk\n",
    "df['NUMBER OF PERSONS INJURED'] = df['NUMBER OF PERSONS INJURED'] + 1"
   ]
  },
  {
   "cell_type": "code",
   "execution_count": null,
   "metadata": {
    "colab": {
     "base_uri": "https://localhost:8080/"
    },
    "id": "GAuDRj__4LuO",
    "outputId": "0c16acf7-b1cb-4f73-904a-fd042b86c427"
   },
   "outputs": [],
   "source": [
    "# TARGET DEFINITION: We define the TOTAL_RISK of a place as the sum of number of persons killed and injured\n",
    "df['TOTAL_RISK'] = df['NUMBER OF PERSONS INJURED'] + df['NUMBER OF PERSONS KILLED']\n",
    "\n",
    "#TARGET DEFINITION: We define MAX_TOTAL_RISK_PER_ZIP as the max TOTAL_RISK for a particular zip code\n",
    "df['MAX_TOTAL_RISK_PER_ZIP'] = df.groupby([ 'ZIP CODE'])['TOTAL_RISK'].transform('max')\n",
    "\n",
    "# TARGET DEFINITION: We define TOTAL_RISK_PC as the percentage risk of a place on a given day and time\n",
    "# This is the TOTAL_RISK of the place on the day and ntime / max risk of that zip code \n",
    "# We will use this distribution to uniformly divide the accidents into three classes - LOW, MEDIUM and HIGH\n",
    "df['TOTAL_RISK_PC'] = (df['TOTAL_RISK'] / df['MAX_TOTAL_RISK_PER_ZIP'] )*100\n",
    "\n",
    "# Drop the intermediate columns\n",
    "df.drop('TOTAL_RISK', axis=1, inplace=True)\n",
    "df.drop('MAX_TOTAL_RISK_PER_ZIP', axis=1, inplace=True)"
   ]
  },
  {
   "cell_type": "code",
   "execution_count": 99,
   "metadata": {
    "id": "UcPWE2jh0w-h"
   },
   "outputs": [],
   "source": [
    "# DATA PROCESSING: As we have defined our TOTAL_RISK_PC target variable, these\n",
    "# columns are no longer needed\n",
    "df.drop('NUMBER OF PERSONS INJURED',  axis=1, inplace=True)\n",
    "df.drop('NUMBER OF PERSONS KILLED', axis=1, inplace=True)\n",
    "# The following columns are redundant. Their information has \n",
    "# already been summed up in the NUMBER OF PERSONS INJURED and \n",
    "# NUMBER OF PERSONS KILLED fields.\n",
    "df.drop('NUMBER OF PEDESTRIANS INJURED', axis=1, inplace=True)\n",
    "df.drop('NUMBER OF PEDESTRIANS KILLED', axis=1, inplace=True)\n",
    "df.drop('NUMBER OF CYCLIST INJURED', axis=1, inplace=True)\n",
    "df.drop('NUMBER OF CYCLIST KILLED', axis=1, inplace=True)\n",
    "df.drop('NUMBER OF MOTORIST INJURED',  axis=1, inplace=True)\n",
    "df.drop('NUMBER OF MOTORIST KILLED', axis=1, inplace=True)\n",
    "df.drop('REAL_LATITUDE', axis=1, inplace=True)\n",
    "df.drop('REAL_LONGITUDE', axis=1, inplace=True)\n",
    "df.drop('STRTNAME_BOROUGH', axis=1, inplace=True)\n",
    "df.drop('LATITUDE', axis=1, inplace=True)\n",
    "df.drop('LONGITUDE', axis=1, inplace=True)"
   ]
  },
  {
   "cell_type": "code",
   "execution_count": 100,
   "metadata": {
    "id": "s-MZiXEJ3a7t"
   },
   "outputs": [],
   "source": [
    "# DATA PROCESSING: Setting correct data type for one-hot encoding later\n",
    "df['ZIP CODE'] = df['ZIP CODE'].astype(str)"
   ]
  },
  {
   "cell_type": "code",
   "execution_count": 101,
   "metadata": {
    "colab": {
     "base_uri": "https://localhost:8080/"
    },
    "id": "UXgtgqsS31xN",
    "outputId": "dcbac7e0-368f-45ef-fce5-0f9d099574dd"
   },
   "outputs": [
    {
     "name": "stdout",
     "output_type": "stream",
     "text": [
      "Index(['BOROUGH', 'ZIP CODE', 'LATITUDE', 'LONGITUDE', 'ON STREET NAME',\n",
      "       'TEMPERATURE_2M', 'RELATIVE_HUMIDITY_2M', 'PRECIPITATION', 'RAIN',\n",
      "       'SNOWFALL', 'SNOW_DEPTH', 'WEATHER_CODE', 'CLOUD_COVER',\n",
      "       'WIND_SPEED_100M', 'WIND_DIRECTION_100M', 'IS_DAY', 'DAY', 'MONTH',\n",
      "       'YEAR', 'HOUR', 'TOTAL_RISK_PC'],\n",
      "      dtype='object')\n"
     ]
    }
   ],
   "source": [
    "# EDA: Print the set of final features and targets\n",
    "column_names = df.columns\n",
    "print(column_names)\n",
    "# Drop all nulls as the final features have been assumed to be complete\n",
    "df = df.dropna()"
   ]
  },
  {
   "cell_type": "code",
   "execution_count": 102,
   "metadata": {
    "colab": {
     "base_uri": "https://localhost:8080/"
    },
    "id": "1bFRNWr-6TPk",
    "outputId": "4ad2923d-6154-4236-ff5a-84f41f3c042d"
   },
   "outputs": [
    {
     "name": "stdout",
     "output_type": "stream",
     "text": [
      "(1116601, 21)\n"
     ]
    }
   ],
   "source": [
    "# This is the final shape of the training + test data\n",
    "print(df.shape)"
   ]
  },
  {
   "cell_type": "code",
   "execution_count": 76,
   "metadata": {},
   "outputs": [
    {
     "name": "stdout",
     "output_type": "stream",
     "text": [
      "Bin 1: (2.2720000000000002, 9.091], Count: 378540\n",
      "Bin 2: (9.091, 14.286], Count: 425771\n",
      "Bin 3: (14.286, 100.0], Count: 312290\n"
     ]
    }
   ],
   "source": [
    "# DATA PROCESSING: In order to create the final class column (RISK_CATEGORY),\n",
    "# We need to divide the TOTAL_RISK_PC distribution uniformly into 3 bins, \n",
    "# for LOW, MEDIUM and HIGH. This block tries to find the correct cut-off\n",
    "# boundaries that can result in a near uniform distribution\n",
    "# Specify the number of bins\n",
    "n_bins = 3\n",
    "\n",
    "# Divide the column into bins with equal sample sizes\n",
    "df['bin'] = pd.qcut(df['TOTAL_RISK_PC'], q=n_bins, labels=False)\n",
    "\n",
    "# Calculate ranges and counts\n",
    "bin_counts = df['bin'].value_counts().sort_index()\n",
    "bin_ranges = pd.qcut(df['TOTAL_RISK_PC'], q=n_bins).cat.categories\n",
    "\n",
    "# Print ranges and counts\n",
    "for i, (bin_range, count) in enumerate(zip(bin_ranges, bin_counts)):\n",
    "    print(f\"Bin {i + 1}: {bin_range}, Count: {count}\")\n"
   ]
  },
  {
   "cell_type": "code",
   "execution_count": 103,
   "metadata": {},
   "outputs": [
    {
     "data": {
      "text/html": [
       "<div>\n",
       "<style scoped>\n",
       "    .dataframe tbody tr th:only-of-type {\n",
       "        vertical-align: middle;\n",
       "    }\n",
       "\n",
       "    .dataframe tbody tr th {\n",
       "        vertical-align: top;\n",
       "    }\n",
       "\n",
       "    .dataframe thead th {\n",
       "        text-align: right;\n",
       "    }\n",
       "</style>\n",
       "<table border=\"1\" class=\"dataframe\">\n",
       "  <thead>\n",
       "    <tr style=\"text-align: right;\">\n",
       "      <th></th>\n",
       "      <th>BOROUGH</th>\n",
       "      <th>ZIP CODE</th>\n",
       "      <th>LATITUDE</th>\n",
       "      <th>LONGITUDE</th>\n",
       "      <th>ON STREET NAME</th>\n",
       "      <th>TEMPERATURE_2M</th>\n",
       "      <th>RELATIVE_HUMIDITY_2M</th>\n",
       "      <th>PRECIPITATION</th>\n",
       "      <th>RAIN</th>\n",
       "      <th>SNOWFALL</th>\n",
       "      <th>...</th>\n",
       "      <th>CLOUD_COVER</th>\n",
       "      <th>WIND_SPEED_100M</th>\n",
       "      <th>WIND_DIRECTION_100M</th>\n",
       "      <th>IS_DAY</th>\n",
       "      <th>DAY</th>\n",
       "      <th>MONTH</th>\n",
       "      <th>YEAR</th>\n",
       "      <th>HOUR</th>\n",
       "      <th>TOTAL_RISK_PC</th>\n",
       "      <th>RISK_CATEGORY</th>\n",
       "    </tr>\n",
       "  </thead>\n",
       "  <tbody>\n",
       "    <tr>\n",
       "      <th>2</th>\n",
       "      <td>BROOKLYN</td>\n",
       "      <td>11233.0</td>\n",
       "      <td>40.697500000000005</td>\n",
       "      <td>-73.88663333333334</td>\n",
       "      <td>SARATOGA AVENUE NYC,  New York</td>\n",
       "      <td>3.663</td>\n",
       "      <td>59.556360</td>\n",
       "      <td>0.0</td>\n",
       "      <td>0.0</td>\n",
       "      <td>0.0</td>\n",
       "      <td>...</td>\n",
       "      <td>6.9</td>\n",
       "      <td>28.236486</td>\n",
       "      <td>289.35907</td>\n",
       "      <td>0.0</td>\n",
       "      <td>14</td>\n",
       "      <td>12</td>\n",
       "      <td>2021</td>\n",
       "      <td>8</td>\n",
       "      <td>7.692308</td>\n",
       "      <td>LOW</td>\n",
       "    </tr>\n",
       "    <tr>\n",
       "      <th>5</th>\n",
       "      <td>BROOKLYN</td>\n",
       "      <td>11207.0</td>\n",
       "      <td>40.697500000000005</td>\n",
       "      <td>-73.88663333333334</td>\n",
       "      <td>ARLINGTON AVENUE NYC,  New York</td>\n",
       "      <td>3.663</td>\n",
       "      <td>59.556360</td>\n",
       "      <td>0.0</td>\n",
       "      <td>0.0</td>\n",
       "      <td>0.0</td>\n",
       "      <td>...</td>\n",
       "      <td>6.9</td>\n",
       "      <td>28.236486</td>\n",
       "      <td>289.35907</td>\n",
       "      <td>0.0</td>\n",
       "      <td>14</td>\n",
       "      <td>12</td>\n",
       "      <td>2021</td>\n",
       "      <td>8</td>\n",
       "      <td>6.666667</td>\n",
       "      <td>LOW</td>\n",
       "    </tr>\n",
       "    <tr>\n",
       "      <th>7</th>\n",
       "      <td>BROOKLYN</td>\n",
       "      <td>11211.0</td>\n",
       "      <td>40.697500000000005</td>\n",
       "      <td>-73.97975</td>\n",
       "      <td>GRAND STREET NYC,  New York</td>\n",
       "      <td>10.211</td>\n",
       "      <td>47.245678</td>\n",
       "      <td>0.0</td>\n",
       "      <td>0.0</td>\n",
       "      <td>0.0</td>\n",
       "      <td>...</td>\n",
       "      <td>20.1</td>\n",
       "      <td>16.454008</td>\n",
       "      <td>349.91946</td>\n",
       "      <td>1.0</td>\n",
       "      <td>14</td>\n",
       "      <td>12</td>\n",
       "      <td>2021</td>\n",
       "      <td>17</td>\n",
       "      <td>18.181818</td>\n",
       "      <td>HIGH</td>\n",
       "    </tr>\n",
       "    <tr>\n",
       "      <th>8</th>\n",
       "      <td>BROOKLYN</td>\n",
       "      <td>11238.0</td>\n",
       "      <td>40.697500000000005</td>\n",
       "      <td>-73.97975</td>\n",
       "      <td>LAFAYETTE AVENUE NYC,  New York</td>\n",
       "      <td>10.211</td>\n",
       "      <td>47.245678</td>\n",
       "      <td>0.0</td>\n",
       "      <td>0.0</td>\n",
       "      <td>0.0</td>\n",
       "      <td>...</td>\n",
       "      <td>20.1</td>\n",
       "      <td>16.454008</td>\n",
       "      <td>349.91946</td>\n",
       "      <td>1.0</td>\n",
       "      <td>14</td>\n",
       "      <td>12</td>\n",
       "      <td>2021</td>\n",
       "      <td>17</td>\n",
       "      <td>9.090909</td>\n",
       "      <td>LOW</td>\n",
       "    </tr>\n",
       "    <tr>\n",
       "      <th>9</th>\n",
       "      <td>MANHATTAN</td>\n",
       "      <td>10002.0</td>\n",
       "      <td>40.697500000000005</td>\n",
       "      <td>-73.97975</td>\n",
       "      <td>EAST HOUSTON STREET NYC,  New York</td>\n",
       "      <td>10.211</td>\n",
       "      <td>47.245678</td>\n",
       "      <td>0.0</td>\n",
       "      <td>0.0</td>\n",
       "      <td>0.0</td>\n",
       "      <td>...</td>\n",
       "      <td>20.1</td>\n",
       "      <td>16.454008</td>\n",
       "      <td>349.91946</td>\n",
       "      <td>1.0</td>\n",
       "      <td>14</td>\n",
       "      <td>12</td>\n",
       "      <td>2021</td>\n",
       "      <td>17</td>\n",
       "      <td>12.500000</td>\n",
       "      <td>MEDIUM</td>\n",
       "    </tr>\n",
       "  </tbody>\n",
       "</table>\n",
       "<p>5 rows × 22 columns</p>\n",
       "</div>"
      ],
      "text/plain": [
       "     BOROUGH ZIP CODE            LATITUDE           LONGITUDE  \\\n",
       "2   BROOKLYN  11233.0  40.697500000000005  -73.88663333333334   \n",
       "5   BROOKLYN  11207.0  40.697500000000005  -73.88663333333334   \n",
       "7   BROOKLYN  11211.0  40.697500000000005           -73.97975   \n",
       "8   BROOKLYN  11238.0  40.697500000000005           -73.97975   \n",
       "9  MANHATTAN  10002.0  40.697500000000005           -73.97975   \n",
       "\n",
       "                       ON STREET NAME  TEMPERATURE_2M  RELATIVE_HUMIDITY_2M  \\\n",
       "2      SARATOGA AVENUE NYC,  New York           3.663             59.556360   \n",
       "5     ARLINGTON AVENUE NYC,  New York           3.663             59.556360   \n",
       "7         GRAND STREET NYC,  New York          10.211             47.245678   \n",
       "8     LAFAYETTE AVENUE NYC,  New York          10.211             47.245678   \n",
       "9  EAST HOUSTON STREET NYC,  New York          10.211             47.245678   \n",
       "\n",
       "   PRECIPITATION  RAIN  SNOWFALL  ...  CLOUD_COVER WIND_SPEED_100M  \\\n",
       "2            0.0   0.0       0.0  ...          6.9       28.236486   \n",
       "5            0.0   0.0       0.0  ...          6.9       28.236486   \n",
       "7            0.0   0.0       0.0  ...         20.1       16.454008   \n",
       "8            0.0   0.0       0.0  ...         20.1       16.454008   \n",
       "9            0.0   0.0       0.0  ...         20.1       16.454008   \n",
       "\n",
       "   WIND_DIRECTION_100M  IS_DAY  DAY  MONTH  YEAR HOUR TOTAL_RISK_PC  \\\n",
       "2            289.35907     0.0   14     12  2021    8      7.692308   \n",
       "5            289.35907     0.0   14     12  2021    8      6.666667   \n",
       "7            349.91946     1.0   14     12  2021   17     18.181818   \n",
       "8            349.91946     1.0   14     12  2021   17      9.090909   \n",
       "9            349.91946     1.0   14     12  2021   17     12.500000   \n",
       "\n",
       "  RISK_CATEGORY  \n",
       "2           LOW  \n",
       "5           LOW  \n",
       "7          HIGH  \n",
       "8           LOW  \n",
       "9        MEDIUM  \n",
       "\n",
       "[5 rows x 22 columns]"
      ]
     },
     "execution_count": 103,
     "metadata": {},
     "output_type": "execute_result"
    }
   ],
   "source": [
    "# TARGET DEFINITION: Create the final CLASS column - RISK CATEGORY. Based on the bins determined above.\n",
    "df['RISK_CATEGORY'] = np.select(\n",
    "    [\n",
    "        (df['TOTAL_RISK_PC'] <= 9.091),\n",
    "        (df['TOTAL_RISK_PC'] > 9.091) & (df['TOTAL_RISK_PC'] <= 14.286),\n",
    "        (df['TOTAL_RISK_PC'] > 14.286)\n",
    "    ],\n",
    "    ['LOW', 'MEDIUM', 'HIGH'],\n",
    "    default='UNKNOWN' \n",
    ")\n",
    "df.head()"
   ]
  },
  {
   "cell_type": "code",
   "execution_count": null,
   "metadata": {
    "id": "EmaZtCoDHdUg"
   },
   "outputs": [],
   "source": [
    "# DATA PROCESSING: Delete intermediate columns. The data is ready for training now\n",
    "df.drop('TOTAL_RISK_PC', axis=1, inplace=True)\n",
    "df.drop('bin', axis=1, inplace=True)"
   ]
  },
  {
   "cell_type": "markdown",
   "metadata": {},
   "source": [
    "### Training the model ###"
   ]
  },
  {
   "cell_type": "markdown",
   "metadata": {},
   "source": [
    "The data set is now ready. We begin training the classification model. RandomForest seemed like a natural choice because 1) It handles mix of <br>categorical and numerical data very well. 2) It performs well with one-hot encoding. 3) It is not sensitive to the scale of the data which is<br> a concern with so many weather features. 4) It is not naturally prone to overfitting."
   ]
  },
  {
   "cell_type": "code",
   "execution_count": 105,
   "metadata": {
    "id": "d8xBiC5MTaFC"
   },
   "outputs": [],
   "source": [
    "# One hot encoding the categorical columns\n",
    "df = pd.get_dummies(df, columns=['BOROUGH', 'WEATHER_CODE', 'ZIP CODE','DAY', 'MONTH', 'YEAR', 'HOUR','IS_DAY'])"
   ]
  },
  {
   "cell_type": "code",
   "execution_count": 107,
   "metadata": {
    "colab": {
     "base_uri": "https://localhost:8080/"
    },
    "id": "sryxwRohOfdu",
    "outputId": "07314c2f-eb64-4dfb-d007-87eec1f0bb0f"
   },
   "outputs": [
    {
     "name": "stdout",
     "output_type": "stream",
     "text": [
      "Accuracy: 0.7924601806368411\n",
      "Confusion Matrix:\n",
      "[[28551 12970 20688]\n",
      " [ 1995 72934   908]\n",
      " [ 2934  6853 75488]]\n",
      "Classification Report:\n",
      "              precision    recall  f1-score   support\n",
      "\n",
      "        HIGH       0.85      0.46      0.60     62209\n",
      "         LOW       0.79      0.96      0.87     75837\n",
      "      MEDIUM       0.78      0.89      0.83     85275\n",
      "\n",
      "    accuracy                           0.79    223321\n",
      "   macro avg       0.81      0.77      0.76    223321\n",
      "weighted avg       0.80      0.79      0.78    223321\n",
      "\n"
     ]
    }
   ],
   "source": [
    "# Run the RandomForest classifier with default parameters and 80:20 split.\n",
    "# Extract target variable\n",
    "target = 'RISK_CATEGORY'\n",
    "y = df[target]\n",
    "\n",
    "# Extract features\n",
    "X = df.drop(columns=[target])\n",
    "\n",
    "# Split the data into training and testing sets\n",
    "X_train, X_test, y_train, y_test = train_test_split(X, y, test_size=0.2, random_state=42)\n",
    "\n",
    "# Create the Random Forest Classifier\n",
    "rf_classifier = RandomForestClassifier(random_state=42)\n",
    "\n",
    "# Train the model\n",
    "rf_classifier.fit(X_train, y_train)\n",
    "\n",
    "# Make predictions on the test set\n",
    "y_pred = rf_classifier.predict(X_test)\n",
    "\n",
    "# Evaluate the model\n",
    "accuracy = accuracy_score(y_test, y_pred)\n",
    "conf_matrix = confusion_matrix(y_test, y_pred)\n",
    "class_report = classification_report(y_test, y_pred)\n",
    "\n",
    "# Print the evaluation metrics\n",
    "print(f\"Accuracy: {accuracy}\")\n",
    "print(\"Confusion Matrix:\")\n",
    "print(conf_matrix)\n",
    "print(\"Classification Report:\")\n",
    "print(class_report)\n"
   ]
  },
  {
   "cell_type": "code",
   "execution_count": 108,
   "metadata": {
    "id": "4iyTLmyE5BOa"
   },
   "outputs": [
    {
     "data": {
      "image/png": "[encoded data removed]",
      "text/plain": [
       "<Figure size 600x400 with 1 Axes>"
      ]
     },
     "metadata": {},
     "output_type": "display_data"
    }
   ],
   "source": [
    "# Calculate confusion matrix\n",
    "conf_matrix = confusion_matrix(y_test, y_pred)\n",
    "\n",
    "# Plot confusion matrix\n",
    "plt.figure(figsize=(6, 4))\n",
    "sns.heatmap(conf_matrix, annot=True, fmt='d', cmap='Blues', cbar=False, xticklabels=rf_classifier.classes_, yticklabels=rf_classifier.classes_)\n",
    "plt.xlabel('Predicted Labels')\n",
    "plt.ylabel('True Labels')\n",
    "plt.title('Confusion Matrix')\n",
    "plt.show()\n"
   ]
  },
  {
   "cell_type": "code",
   "execution_count": 109,
   "metadata": {
    "id": "bEc_xGxY5MSL"
   },
   "outputs": [
    {
     "data": {
      "image/png": "[encoded data removed]",
      "text/plain": [
       "<Figure size 1000x800 with 1 Axes>"
      ]
     },
     "metadata": {},
     "output_type": "display_data"
    }
   ],
   "source": [
    "# Get precision and recall values for each class\n",
    "precision = dict()\n",
    "recall = dict()\n",
    "for i, class_label in enumerate(rf_classifier.classes_):\n",
    "    precision[class_label], recall[class_label], _ = precision_recall_curve((y_test == class_label).astype(int), rf_classifier.predict_proba(X_test)[:, i])\n",
    "\n",
    "# Plot precision-recall curves for each class\n",
    "plt.figure(figsize=(10, 8))\n",
    "for class_label in rf_classifier.classes_:\n",
    "    plt.plot(recall[class_label], precision[class_label], lw=2, label=f'Class {class_label}')\n",
    "\n",
    "plt.xlabel('Recall')\n",
    "plt.ylabel('Precision')\n",
    "plt.title('Precision-Recall Curve for Each Class')\n",
    "plt.legend()\n",
    "plt.grid()\n",
    "plt.show()\n"
   ]
  },
  {
   "cell_type": "code",
   "execution_count": 110,
   "metadata": {
    "id": "nfTuQmve6WgW"
   },
   "outputs": [
    {
     "data": {
      "image/png": "[encoded data removed]",
      "text/plain": [
       "<Figure size 800x600 with 1 Axes>"
      ]
     },
     "metadata": {},
     "output_type": "display_data"
    }
   ],
   "source": [
    "# Get ROC curve values for each class\n",
    "fpr = dict()\n",
    "tpr = dict()\n",
    "roc_auc = dict()\n",
    "for i, class_label in enumerate(rf_classifier.classes_):\n",
    "    fpr[class_label], tpr[class_label], _ = roc_curve((y_test == class_label).astype(int), rf_classifier.predict_proba(X_test)[:, i])\n",
    "    roc_auc[class_label] = auc(fpr[class_label], tpr[class_label])\n",
    "\n",
    "# Plot ROC curves for each class\n",
    "plt.figure(figsize=(8, 6))\n",
    "for class_label in rf_classifier.classes_:\n",
    "    plt.plot(fpr[class_label], tpr[class_label], lw=2, label=f'Class {class_label} (AUC = {roc_auc[class_label]:.2f})')\n",
    "\n",
    "plt.plot([0, 1], [0, 1], color='navy', lw=2, linestyle='--')\n",
    "plt.xlabel('False Positive Rate')\n",
    "plt.ylabel('True Positive Rate')\n",
    "plt.title('Receiver Operating Characteristic (ROC) Curve for Each Class')\n",
    "plt.grid()\n",
    "plt.legend()\n",
    "plt.show()\n"
   ]
  },
  {
   "cell_type": "markdown",
   "metadata": {},
   "source": [
    "### Random Forest with Hyper-parameter tuning ###"
   ]
  },
  {
   "cell_type": "markdown",
   "metadata": {},
   "source": [
    "In the next section, we ran the random forest with hyper paramater tuning. We used RandomizedSearchCV for this, and ran it for a set <br>\n",
    "of 30 different hyperparameters (n_estimators, max_depth, min_samples_split, min_samples_leaf). This code takes a long time to run ( > 10 hours)"
   ]
  },
  {
   "cell_type": "code",
   "execution_count": 28,
   "metadata": {},
   "outputs": [
    {
     "name": "stdout",
     "output_type": "stream",
     "text": [
      "Fitting 3 folds for each of 10 candidates, totalling 30 fits\n",
      "Best Parameters: {'n_estimators': 200, 'min_samples_split': 5, 'min_samples_leaf': 2, 'max_depth': None}\n",
      "Best Score: 0.7966886082751209\n",
      "Accuracy: 0.7998755155135433\n",
      "Confusion Matrix:\n",
      "[[25108 18611 18293]\n",
      " [  326 88536    54]\n",
      " [  381  7027 64985]]\n",
      "Classification Report:\n",
      "              precision    recall  f1-score   support\n",
      "\n",
      "        HIGH       0.97      0.40      0.57     62012\n",
      "         LOW       0.78      1.00      0.87     88916\n",
      "      MEDIUM       0.78      0.90      0.83     72393\n",
      "\n",
      "    accuracy                           0.80    223321\n",
      "   macro avg       0.84      0.77      0.76    223321\n",
      "weighted avg       0.83      0.80      0.78    223321\n",
      "\n"
     ]
    }
   ],
   "source": [
    "# Extract target variable\n",
    "target = 'RISK_CATEGORY'\n",
    "y = df[target]\n",
    "\n",
    "# Extract features\n",
    "X = df.drop(columns=[target])\n",
    "\n",
    "# Split the data into training and testing sets\n",
    "X_train, X_test, y_train, y_test = train_test_split(X, y, test_size=0.2, random_state=42)\n",
    "\n",
    "# Create the Random Forest Classifier\n",
    "rf_classifier = RandomForestClassifier(random_state=42)\n",
    "\n",
    "# Define hyperparameter grid\n",
    "param_grid = {\n",
    "    'n_estimators': [50, 100, 200, 300],\n",
    "    'max_depth': [None, 10, 20, 30],\n",
    "    'min_samples_split': [2, 5, 10],\n",
    "    'min_samples_leaf': [1, 2, 4]\n",
    "}\n",
    "\n",
    "# Create RandomizedSearchCV\n",
    "random_search = RandomizedSearchCV(estimator=rf_classifier, param_distributions=param_grid, n_iter=10, scoring='accuracy', cv=3, verbose=2, random_state=42, n_jobs=-1)\n",
    "\n",
    "# Fit the model\n",
    "random_search.fit(X_train, y_train)\n",
    "\n",
    "# Print best parameters and results\n",
    "print(\"Best Parameters:\", random_search.best_params_)\n",
    "print(\"Best Score:\", random_search.best_score_)\n",
    "\n",
    "# Make predictions on the test set using the best model\n",
    "y_pred = random_search.predict(X_test)\n",
    "\n",
    "# Evaluate the model\n",
    "accuracy = accuracy_score(y_test, y_pred)\n",
    "conf_matrix = confusion_matrix(y_test, y_pred)\n",
    "class_report = classification_report(y_test, y_pred)\n",
    "\n",
    "# Print the evaluation metrics\n",
    "print(f\"Accuracy: {accuracy}\")\n",
    "print(\"Confusion Matrix:\")\n",
    "print(conf_matrix)\n",
    "print(\"Classification Report:\")\n",
    "print(class_report)\n"
   ]
  },
  {
   "cell_type": "markdown",
   "metadata": {},
   "source": [
    "### XGBoost Model ###"
   ]
  },
  {
   "cell_type": "markdown",
   "metadata": {},
   "source": [
    "We also ran the model with XGBoost. While XGBoost runs significantly faster than RandomForest, it gave slightly worse results."
   ]
  },
  {
   "cell_type": "code",
   "execution_count": 82,
   "metadata": {},
   "outputs": [
    {
     "name": "stderr",
     "output_type": "stream",
     "text": [
      "C:\\Users\\mehra\\AppData\\Local\\Programs\\Python\\Python311\\Lib\\site-packages\\xgboost\\data.py:335: FutureWarning: is_sparse is deprecated and will be removed in a future version. Check `isinstance(dtype, pd.SparseDtype)` instead.\n",
      "  if is_sparse(dtype):\n",
      "C:\\Users\\mehra\\AppData\\Local\\Programs\\Python\\Python311\\Lib\\site-packages\\xgboost\\data.py:338: FutureWarning: is_categorical_dtype is deprecated and will be removed in a future version. Use isinstance(dtype, CategoricalDtype) instead\n",
      "  is_categorical_dtype(dtype) or is_pa_ext_categorical_dtype(dtype)\n",
      "C:\\Users\\mehra\\AppData\\Local\\Programs\\Python\\Python311\\Lib\\site-packages\\xgboost\\data.py:384: FutureWarning: is_categorical_dtype is deprecated and will be removed in a future version. Use isinstance(dtype, CategoricalDtype) instead\n",
      "  if is_categorical_dtype(dtype):\n",
      "C:\\Users\\mehra\\AppData\\Local\\Programs\\Python\\Python311\\Lib\\site-packages\\xgboost\\data.py:359: FutureWarning: is_categorical_dtype is deprecated and will be removed in a future version. Use isinstance(dtype, CategoricalDtype) instead\n",
      "  return is_int or is_bool or is_float or is_categorical_dtype(dtype)\n",
      "C:\\Users\\mehra\\AppData\\Local\\Programs\\Python\\Python311\\Lib\\site-packages\\xgboost\\data.py:520: FutureWarning: is_sparse is deprecated and will be removed in a future version. Check `isinstance(dtype, pd.SparseDtype)` instead.\n",
      "  if is_sparse(data):\n",
      "C:\\Users\\mehra\\AppData\\Local\\Programs\\Python\\Python311\\Lib\\site-packages\\xgboost\\data.py:335: FutureWarning: is_sparse is deprecated and will be removed in a future version. Check `isinstance(dtype, pd.SparseDtype)` instead.\n",
      "  if is_sparse(dtype):\n",
      "C:\\Users\\mehra\\AppData\\Local\\Programs\\Python\\Python311\\Lib\\site-packages\\xgboost\\data.py:338: FutureWarning: is_categorical_dtype is deprecated and will be removed in a future version. Use isinstance(dtype, CategoricalDtype) instead\n",
      "  is_categorical_dtype(dtype) or is_pa_ext_categorical_dtype(dtype)\n",
      "C:\\Users\\mehra\\AppData\\Local\\Programs\\Python\\Python311\\Lib\\site-packages\\xgboost\\data.py:384: FutureWarning: is_categorical_dtype is deprecated and will be removed in a future version. Use isinstance(dtype, CategoricalDtype) instead\n",
      "  if is_categorical_dtype(dtype):\n",
      "C:\\Users\\mehra\\AppData\\Local\\Programs\\Python\\Python311\\Lib\\site-packages\\xgboost\\data.py:359: FutureWarning: is_categorical_dtype is deprecated and will be removed in a future version. Use isinstance(dtype, CategoricalDtype) instead\n",
      "  return is_int or is_bool or is_float or is_categorical_dtype(dtype)\n"
     ]
    },
    {
     "name": "stdout",
     "output_type": "stream",
     "text": [
      "Accuracy: 0.7861777441440796\n",
      "Confusion Matrix:\n",
      "[[73725   835  1277]\n",
      " [ 8041 77234     0]\n",
      " [14560 23038 24611]]\n",
      "Classification Report:\n",
      "              precision    recall  f1-score   support\n",
      "\n",
      "           0       0.77      0.97      0.86     75837\n",
      "           1       0.76      0.91      0.83     85275\n",
      "           2       0.95      0.40      0.56     62209\n",
      "\n",
      "    accuracy                           0.79    223321\n",
      "   macro avg       0.83      0.76      0.75    223321\n",
      "weighted avg       0.82      0.79      0.76    223321\n",
      "\n"
     ]
    }
   ],
   "source": [
    "# Using XGBoost\n",
    "\n",
    "class_mapping = {'LOW': 0, 'MEDIUM': 1, 'HIGH': 2}\n",
    "df['RISK_CATEGORY'] = df['RISK_CATEGORY'].map(class_mapping)\n",
    "# Extract target variable\n",
    "target = 'RISK_CATEGORY'\n",
    "y = df[target]\n",
    "\n",
    "# Extract features\n",
    "X = df.drop(columns=[target])\n",
    "\n",
    "# Split the data into training and testing sets\n",
    "X_train, X_test, y_train, y_test = train_test_split(X, y, test_size=0.2, random_state=42)\n",
    "\n",
    "# Create the XGBoost Classifier\n",
    "xgb_classifier = XGBClassifier(random_state=42)\n",
    "\n",
    "# Train the model\n",
    "xgb_classifier.fit(X_train, y_train)\n",
    "\n",
    "# Make predictions on the test set\n",
    "y_pred = xgb_classifier.predict(X_test)\n",
    "\n",
    "# Evaluate the model\n",
    "accuracy = accuracy_score(y_test, y_pred)\n",
    "conf_matrix = confusion_matrix(y_test, y_pred)\n",
    "class_report = classification_report(y_test, y_pred)\n",
    "\n",
    "# Print the evaluation metrics\n",
    "print(f\"Accuracy: {accuracy}\")\n",
    "print(\"Confusion Matrix:\")\n",
    "print(conf_matrix)\n",
    "print(\"Classification Report:\")\n",
    "print(class_report)\n"
   ]
  }
 ],
 "metadata": {
  "colab": {
   "provenance": []
  },
  "kernelspec": {
   "display_name": "Python 3 (ipykernel)",
   "language": "python",
   "name": "python3"
  },
  "language_info": {
   "codemirror_mode": {
    "name": "ipython",
    "version": 3
   },
   "file_extension": ".py",
   "mimetype": "text/x-python",
   "name": "python",
   "nbconvert_exporter": "python",
   "pygments_lexer": "ipython3",
   "version": "3.11.5"
  }
 },
 "nbformat": 4,
 "nbformat_minor": 4
}
